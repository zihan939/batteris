{
 "cells": [
  {
   "cell_type": "code",
   "execution_count": 124,
   "id": "48e8d1a8-ea02-4372-8e95-a365540affb3",
   "metadata": {},
   "outputs": [],
   "source": [
    "import h5py\n",
    "import scipy.io\n",
    "import matplotlib.pyplot as plt\n",
    "import numpy as np\n",
    "import pickle"
   ]
  },
  {
   "cell_type": "code",
   "execution_count": 117,
   "id": "f1450373-916b-4af5-9f4d-6128f3f31acc",
   "metadata": {},
   "outputs": [],
   "source": [
    "import os"
   ]
  },
  {
   "cell_type": "code",
   "execution_count": 118,
   "id": "1482c497-3194-4939-97b7-ac8b90e0544c",
   "metadata": {},
   "outputs": [],
   "source": [
    "with open('batch3.pkl', 'rb') as file:\n",
    "    batch3 = pickle.load(file)\n",
    "with open('batch2.pkl', 'rb') as file:\n",
    "    batch2 = pickle.load(file)\n",
    "with open('batch1.pkl', 'rb') as file:\n",
    "    batch1 = pickle.load(file)\n"
   ]
  },
  {
   "cell_type": "code",
   "execution_count": 119,
   "id": "4eae3c8a-cc2b-42cc-9b8b-f6bcb4c6c962",
   "metadata": {},
   "outputs": [],
   "source": [
    "del batch1['b1c8']\n",
    "del batch1['b1c10']\n",
    "del batch1['b1c12']\n",
    "del batch1['b1c13']\n",
    "del batch1['b1c22']"
   ]
  },
  {
   "cell_type": "code",
   "execution_count": 6,
   "id": "26339674-4241-43af-9c34-8521c34af9b5",
   "metadata": {},
   "outputs": [
    {
     "data": {
      "text/plain": [
       "dict_keys(['b1c0', 'b1c1', 'b1c2', 'b1c3', 'b1c4', 'b1c5', 'b1c6', 'b1c7', 'b1c9', 'b1c11', 'b1c14', 'b1c15', 'b1c16', 'b1c17', 'b1c18', 'b1c19', 'b1c20', 'b1c21', 'b1c23', 'b1c24', 'b1c25', 'b1c26', 'b1c27', 'b1c28', 'b1c29', 'b1c30', 'b1c31', 'b1c32', 'b1c33', 'b1c34', 'b1c35', 'b1c36', 'b1c37', 'b1c38', 'b1c39', 'b1c40', 'b1c41', 'b1c42', 'b1c43', 'b1c44', 'b1c45'])"
      ]
     },
     "execution_count": 6,
     "metadata": {},
     "output_type": "execute_result"
    }
   ],
   "source": [
    "batch1.keys()"
   ]
  },
  {
   "cell_type": "code",
   "execution_count": 7,
   "id": "e83478cb-9572-4f36-8030-57d12fe8911d",
   "metadata": {},
   "outputs": [],
   "source": [
    "\n",
    "# There are four cells from batch1 that carried into batch2, we'll remove the data from batch2\n",
    "# and put it with the correct cell from batch1\n",
    "batch2_keys = ['b2c7', 'b2c8', 'b2c9', 'b2c15', 'b2c16']\n",
    "batch1_keys = ['b1c0', 'b1c1', 'b1c2', 'b1c3', 'b1c4']\n",
    "add_len = [662, 981, 1060, 208, 482];\n",
    "for i, bk in enumerate(batch1_keys):\n",
    "    batch1[bk]['cycle_life'] = batch1[bk]['cycle_life'] + add_len[i]\n",
    "    for j in batch1[bk]['summary'].keys():\n",
    "        if j == 'cycle':\n",
    "            batch1[bk]['summary'][j] = np.hstack((batch1[bk]['summary'][j], batch2[batch2_keys[i]]['summary'][j] + len(batch1[bk]['summary'][j])))\n",
    "        else:\n",
    "            batch1[bk]['summary'][j] = np.hstack((batch1[bk]['summary'][j], batch2[batch2_keys[i]]['summary'][j]))\n",
    "    last_cycle = len(batch1[bk]['cycles'].keys())\n",
    "    for j, jk in enumerate(batch2[batch2_keys[i]]['cycles'].keys()):\n",
    "        batch1[bk]['cycles'][str(last_cycle + j)] = batch2[batch2_keys[i]]['cycles'][jk]\n",
    "\n"
   ]
  },
  {
   "cell_type": "code",
   "execution_count": 8,
   "id": "967baf4d-a9f4-44e0-a7fe-be6f10059595",
   "metadata": {},
   "outputs": [],
   "source": [
    "del batch2['b2c7']\n",
    "del batch2['b2c8']\n",
    "del batch2['b2c9']\n",
    "del batch2['b2c15']\n",
    "del batch2['b2c16']\n",
    "\n"
   ]
  },
  {
   "cell_type": "code",
   "execution_count": 9,
   "id": "af492e62-031a-429b-8e1b-9ca9fe165599",
   "metadata": {},
   "outputs": [],
   "source": [
    "del batch3['b3c37']\n",
    "del batch3['b3c2']\n",
    "del batch3['b3c23']\n",
    "del batch3['b3c32']\n",
    "del batch3['b3c42']\n",
    "del batch3['b3c43']"
   ]
  },
  {
   "cell_type": "code",
   "execution_count": 10,
   "id": "566cbf87-0f99-411f-b420-b46d86a2ae78",
   "metadata": {},
   "outputs": [
    {
     "data": {
      "text/plain": [
       "124"
      ]
     },
     "execution_count": 10,
     "metadata": {},
     "output_type": "execute_result"
    }
   ],
   "source": [
    "numBat = len(batch1.keys()) + len(batch2.keys()) + len(batch3.keys())\n",
    "bat_dict = {**batch1, **batch2, **batch3}\n",
    "numBat"
   ]
  },
  {
   "cell_type": "code",
   "execution_count": 11,
   "id": "b1c79238-8a5a-453a-803b-ae92cfe3247c",
   "metadata": {},
   "outputs": [
    {
     "data": {
      "text/plain": [
       "Text(0, 0.5, 'Discharge Capacity (Ah)')"
      ]
     },
     "execution_count": 11,
     "metadata": {},
     "output_type": "execute_result"
    },
    {
     "data": {
      "image/png": "[encoded data removed]",
      "text/plain": [
       "<Figure size 432x288 with 1 Axes>"
      ]
     },
     "metadata": {
      "needs_background": "light"
     },
     "output_type": "display_data"
    }
   ],
   "source": [
    "for i in bat_dict.keys():\n",
    "    plt.plot(bat_dict[i]['summary']['cycle'], bat_dict[i]['summary']['QD'])\n",
    "plt.xlabel('Cycle Number')\n",
    "plt.ylabel('Discharge Capacity (Ah)')"
   ]
  },
  {
   "cell_type": "code",
   "execution_count": 12,
   "id": "7f91fbd8-01e2-4ecc-9020-f0753b9b28a2",
   "metadata": {},
   "outputs": [
    {
     "data": {
      "text/plain": [
       "dict_keys(['cycle_life', 'charge_policy', 'summary', 'cycles'])"
      ]
     },
     "execution_count": 12,
     "metadata": {},
     "output_type": "execute_result"
    }
   ],
   "source": [
    "bat_dict['b1c1'].keys()"
   ]
  },
  {
   "cell_type": "code",
   "execution_count": 170,
   "id": "ac86d9c1-db8b-4a2d-8b85-d54c0ee162f9",
   "metadata": {},
   "outputs": [],
   "source": [
    "import pandas as pd\n",
    "\n",
    "bat_dfs = {}\n",
    "\n",
    "for bat in bat_dict.keys():\n",
    "    data_for_df = []\n",
    "    for cycle_num in range(len(bat_dict[bat]['cycles'])):\n",
    "        idx_switch = -1\n",
    "        for idx in np.where(bat_dict[bat]['cycles'][str(cycle_num)]['I'] < 0)[0]:\n",
    "            if (bat_dict[bat]['cycles'][str(cycle_num)]['I'][idx+1] < 0) and (bat_dict[bat]['cycles'][str(cycle_num)]['I'][idx+2] < 0) and (bat_dict[bat]['cycles'][str(cycle_num)]['I'][idx+10] < 0):\n",
    "                idx_switch = idx\n",
    "                break\n",
    "        capacity = np.concatenate((bat_dict[bat]['cycles'][str(cycle_num)]['Qc'][:idx_switch], bat_dict[bat]['cycles'][str(cycle_num)]['Qc'][idx_switch - 1] - bat_dict[bat]['cycles'][str(cycle_num)]['Qd'][idx_switch:]))\n",
    "        for point_idx in range(len(bat_dict[bat]['cycles'][str(cycle_num)]['I'])):\n",
    "            data_for_df.append([\n",
    "                bat_dict[bat]['cycles'][str(cycle_num)]['I'][point_idx],\n",
    "                bat_dict[bat]['cycles'][str(cycle_num)]['V'][point_idx],\n",
    "                bat_dict[bat]['cycles'][str(cycle_num)]['T'][point_idx],\n",
    "                bat_dict[bat]['cycles'][str(cycle_num)]['t'][point_idx],\n",
    "                capacity[point_idx],\n",
    "                cycle_num\n",
    "            ])\n",
    "    df = pd.DataFrame(data=data_for_df, columns=['I', 'V', 'T', 't', 'Q', 'c'])\n",
    "    bat_dfs[bat] = df"
   ]
  },
  {
   "cell_type": "code",
   "execution_count": 147,
   "id": "50c59912-f675-4243-91a4-52ae9f752ec0",
   "metadata": {},
   "outputs": [
    {
     "data": {
      "image/png": "[encoded data removed]",
      "text/plain": [
       "<Figure size 432x288 with 1 Axes>"
      ]
     },
     "metadata": {
      "needs_background": "light"
     },
     "output_type": "display_data"
    }
   ],
   "source": [
    "data = [bat_dict[bat]['cycle_life'][0][0] for bat in bat_dict.keys()]\n",
    "\n",
    "counts, bins, _ = plt.hist(data, list(range(0, 2500, 50)))"
   ]
  },
  {
   "cell_type": "code",
   "execution_count": 148,
   "id": "38b5ef24-0fea-4d96-bb7e-40d0d14dbbb3",
   "metadata": {},
   "outputs": [],
   "source": [
    "from sklearn.model_selection import train_test_split\n",
    "\n",
    "data = bat_dict\n",
    "\n",
    "# Convert to DataFrame\n",
    "df = pd.DataFrame.from_dict(data, orient='index').reset_index().rename(columns={'index': 'key'})\n",
    "df['cycle_life'] = df['cycle_life'].apply(lambda x: x[0][0])\n",
    "\n",
    "number_of_bins = 5\n",
    "df['cycle_life_bins'] = pd.cut(df['cycle_life'], bins=number_of_bins, labels=False)\n",
    "\n",
    "train_set, temp_set = train_test_split(df, test_size=0.4, stratify=df['cycle_life_bins'], random_state=42)\n",
    "test_set, val_set = train_test_split(temp_set, test_size=0.5, stratify=temp_set['cycle_life_bins'], random_state=42)\n",
    "\n"
   ]
  },
  {
   "cell_type": "code",
   "execution_count": 149,
   "id": "353ab5f2-b473-45de-bce7-491577b67b5d",
   "metadata": {},
   "outputs": [],
   "source": [
    "def dataframe_to_dict(df):\n",
    "    df = df.set_index('key')\n",
    "    return df.to_dict(orient='index')\n",
    "\n",
    "# Convert train_set to a dict of dicts\n",
    "train_dict = dataframe_to_dict(train_set)\n",
    "test_dict = dataframe_to_dict(test_set)\n",
    "val_dict = dataframe_to_dict(val_set)"
   ]
  },
  {
   "cell_type": "code",
   "execution_count": 151,
   "id": "fc0099f2-828a-4bcb-9181-079b9cd0f1a6",
   "metadata": {},
   "outputs": [
    {
     "name": "stdout",
     "output_type": "stream",
     "text": [
      "74\n"
     ]
    },
    {
     "data": {
      "image/png": "[encoded data removed]",
      "text/plain": [
       "<Figure size 432x288 with 1 Axes>"
      ]
     },
     "metadata": {
      "needs_background": "light"
     },
     "output_type": "display_data"
    }
   ],
   "source": [
    "# plot train set\n",
    "data = [train_dict[bat]['cycle_life'] for bat in train_dict.keys()]\n",
    "counts, bins, _ = plt.hist(data, list(range(0, 2500, 50)))\n",
    "print(len(train_dict))"
   ]
  },
  {
   "cell_type": "code",
   "execution_count": 152,
   "id": "bd4aa592-b198-4b8c-8f44-b8c7a6f7652d",
   "metadata": {},
   "outputs": [
    {
     "name": "stdout",
     "output_type": "stream",
     "text": [
      "25\n"
     ]
    },
    {
     "data": {
      "image/png": "[encoded data removed]",
      "text/plain": [
       "<Figure size 432x288 with 1 Axes>"
      ]
     },
     "metadata": {
      "needs_background": "light"
     },
     "output_type": "display_data"
    }
   ],
   "source": [
    "# plot test set\n",
    "data = [test_dict[bat]['cycle_life'] for bat in test_dict.keys()]\n",
    "counts, bins, _ = plt.hist(data, list(range(0, 2500, 50)))\n",
    "print(len(test_dict))"
   ]
  },
  {
   "cell_type": "code",
   "execution_count": 153,
   "id": "eea87b9d-c0a6-410e-a88d-cb7dfdb89b9f",
   "metadata": {},
   "outputs": [
    {
     "name": "stdout",
     "output_type": "stream",
     "text": [
      "25\n"
     ]
    },
    {
     "data": {
      "image/png": "[encoded data removed]",
      "text/plain": [
       "<Figure size 432x288 with 1 Axes>"
      ]
     },
     "metadata": {
      "needs_background": "light"
     },
     "output_type": "display_data"
    }
   ],
   "source": [
    "# plot val set\n",
    "data = [val_dict[bat]['cycle_life'] for bat in val_dict.keys()]\n",
    "counts, bins, _ = plt.hist(data, list(range(0, 2500, 50)))\n",
    "print(len(val_dict))"
   ]
  },
  {
   "cell_type": "code",
   "execution_count": 179,
   "id": "a61d720c-c316-4030-a6bc-1e8bf6c181b9",
   "metadata": {},
   "outputs": [],
   "source": [
    "import wandb"
   ]
  },
  {
   "cell_type": "code",
   "execution_count": 183,
   "id": "17a64c70-85cc-4280-a344-73552c461aa6",
   "metadata": {},
   "outputs": [],
   "source": [
    "import torch\n",
    "import torch.nn as nn\n",
    "import torch.optim as optim\n",
    "import numpy as np\n",
    "from sklearn.preprocessing import StandardScaler\n",
    "from sklearn.metrics import mean_squared_error\n",
    "import wandb\n",
    "from skopt import BayesSearchCV\n",
    "class Model(nn.Module):\n",
    "    def __init__(self, num_layers, num_units, activation_fn):\n",
    "        super().__init__()\n",
    "        layers = []\n",
    "        prev_units = 3  # Number of input features (I, V, T)\n",
    "        for _ in range(num_layers):\n",
    "            layers.append(nn.Linear(prev_units, num_units).float())\n",
    "            layers.append(self.get_activation(activation_fn))\n",
    "            prev_units = num_units\n",
    "        layers.append(nn.Linear(prev_units, 1))\n",
    "        self.layers = nn.Sequential(*layers)\n",
    "        self.sigmoid = nn.Sigmoid()\n",
    "\n",
    "    def forward(self, x):\n",
    "        x = self.layers(x)\n",
    "        x = self.sigmoid(x)\n",
    "        return x\n",
    "\n",
    "    def get_activation(self, activation_fn):\n",
    "        if activation_fn == \"relu\":\n",
    "            return nn.ReLU()\n",
    "        elif activation_fn == \"tanh\":\n",
    "            return nn.Tanh()\n",
    "        elif activation_fn == \"softmax\":\n",
    "            return nn.Softmax(dim=-1)\n",
    "        elif activation_fn == \"sigmoid\":\n",
    "            return nn.Sigmoid()\n",
    "        else:\n",
    "            raise ValueError(f\"Invalid activation function: {activation_fn}\")\n",
    "\n",
    "\n",
    "def train_and_evaluate(params):\n",
    "    num_layers = int(params[0])\n",
    "    num_units = int(params[1])\n",
    "    activation_fn = params[2]\n",
    "    batch_size = int(params[3])\n",
    "    learning_rate = params[4]\n",
    "\n",
    "    model = Model(num_layers, num_units, activation_fn)\n",
    "    loss_fn = nn.MSELoss()\n",
    "    optimizer = optim.Adam(model.parameters(), lr=learning_rate)\n",
    "    batch_start = torch.arange(0, len(X_train), batch_size)\n",
    "\n",
    "    model.train()\n",
    "    for epoch in range(n_epochs):\n",
    "        for start in batch_start:\n",
    "            X_batch = X_train[start : start + batch_size]\n",
    "            X_batch_tensor = torch.from_numpy(X_batch).float()\n",
    "            y_batch = y_train[start : start + batch_size]\n",
    "            y_batch_tensor = torch.from_numpy(y_batch).float()\n",
    "            y_pred = model(X_batch_tensor)\n",
    "            loss = loss_fn(y_pred, y_batch_tensor)\n",
    "            optimizer.zero_grad()\n",
    "            loss.backward()\n",
    "            optimizer.step()\n",
    "\n",
    "    model.eval()\n",
    "\n",
    "    y_pred_val = model(torch.from_numpy(X_val).float()).cpu().detach().numpy()\n",
    "    rmse = mean_squared_error(y_test_tensor, y_pred, squared=False)\n",
    "\n",
    "    return -rmse  # Negative sign because skopt minimizes the objective function\n",
    "\n"
   ]
  },
  {
   "cell_type": "code",
   "execution_count": 184,
   "id": "90b29f43-a04d-4d9c-925e-814a1e22703b",
   "metadata": {},
   "outputs": [
    {
     "name": "stdout",
     "output_type": "stream",
     "text": [
      "Create sweep with ID: droeomwu\n",
      "Sweep URL: https://wandb.ai/zoeli/batteries/sweeps/droeomwu\n"
     ]
    }
   ],
   "source": [
    "\n",
    "sweep_config = {\n",
    "    \"method\": \"bayes\",\n",
    "    \"metric\": {\"goal\": \"minimize\", \"name\": \"RMSE\"},\n",
    "    'parameters': {\n",
    "        'num_layers': {\n",
    "            'values': [2,3,4,5]\n",
    "        },\n",
    "        'num_units': { # just 500 for now\n",
    "           'min': 50,\n",
    "            'max': 500\n",
    "        },\n",
    "        'activation': {\n",
    "            'values': ['relu', 'tanh', 'softmax', 'sigmoid']\n",
    "        },\n",
    "        'batch_size': { # list 2^n\n",
    "            'value':[4, 8, 16, 32, 64, 128]\n",
    "        },\n",
    "        'learning_rate': {\n",
    "            'min': 1e-4,\n",
    "            'max': 1e-2\n",
    "        }\n",
    "    }\n",
    "}\n",
    "sweep_id = wandb.sweep(sweep_config, project=\"batteries\")\n"
   ]
  },
  {
   "cell_type": "code",
   "execution_count": 185,
   "id": "cd3119e6-a1dd-42cd-a3fe-43844c20e811",
   "metadata": {
    "tags": []
   },
   "outputs": [
    {
     "name": "stderr",
     "output_type": "stream",
     "text": [
      "Traceback (most recent call last):\n",
      "  File \"/Users/lizihan/opt/anaconda3/lib/python3.9/site-packages/wandb/sdk/wandb_init.py\", line 1150, in init\n",
      "    wi.setup(kwargs)\n",
      "  File \"/Users/lizihan/opt/anaconda3/lib/python3.9/site-packages/wandb/sdk/wandb_init.py\", line 216, in setup\n",
      "    tel.feature.set_init_tags = True\n",
      "  File \"/Users/lizihan/opt/anaconda3/lib/python3.9/site-packages/wandb/sdk/lib/telemetry.py\", line 42, in __exit__\n",
      "    self._run._telemetry_callback(self._obj)\n",
      "  File \"/Users/lizihan/opt/anaconda3/lib/python3.9/site-packages/wandb/sdk/wandb_run.py\", line 710, in _telemetry_callback\n",
      "    self._telemetry_flush()\n",
      "  File \"/Users/lizihan/opt/anaconda3/lib/python3.9/site-packages/wandb/sdk/wandb_run.py\", line 721, in _telemetry_flush\n",
      "    self._backend.interface._publish_telemetry(self._telemetry_obj)\n",
      "  File \"/Users/lizihan/opt/anaconda3/lib/python3.9/site-packages/wandb/sdk/interface/interface_shared.py\", line 101, in _publish_telemetry\n",
      "    self._publish(rec)\n",
      "  File \"/Users/lizihan/opt/anaconda3/lib/python3.9/site-packages/wandb/sdk/interface/interface_sock.py\", line 51, in _publish\n",
      "    self._sock_client.send_record_publish(record)\n",
      "  File \"/Users/lizihan/opt/anaconda3/lib/python3.9/site-packages/wandb/sdk/lib/sock_client.py\", line 221, in send_record_publish\n",
      "    self.send_server_request(server_req)\n",
      "  File \"/Users/lizihan/opt/anaconda3/lib/python3.9/site-packages/wandb/sdk/lib/sock_client.py\", line 155, in send_server_request\n",
      "    self._send_message(msg)\n",
      "  File \"/Users/lizihan/opt/anaconda3/lib/python3.9/site-packages/wandb/sdk/lib/sock_client.py\", line 152, in _send_message\n",
      "    self._sendall_with_error_handle(header + data)\n",
      "  File \"/Users/lizihan/opt/anaconda3/lib/python3.9/site-packages/wandb/sdk/lib/sock_client.py\", line 130, in _sendall_with_error_handle\n",
      "    sent = self._sock.send(data)\n",
      "BrokenPipeError: [Errno 32] Broken pipe\n"
     ]
    },
    {
     "ename": "Error",
     "evalue": "An unexpected error occurred",
     "output_type": "error",
     "traceback": [
      "\u001b[0;31m---------------------------------------------------------------------------\u001b[0m",
      "\u001b[0;31mBrokenPipeError\u001b[0m                           Traceback (most recent call last)",
      "\u001b[0;32m~/opt/anaconda3/lib/python3.9/site-packages/wandb/sdk/wandb_init.py\u001b[0m in \u001b[0;36minit\u001b[0;34m(job_type, dir, config, project, entity, reinit, tags, group, name, notes, magic, config_exclude_keys, config_include_keys, anonymous, mode, allow_val_change, resume, force, tensorboard, sync_tensorboard, monitor_gym, save_code, id, settings)\u001b[0m\n\u001b[1;32m   1149\u001b[0m         \u001b[0mwi\u001b[0m \u001b[0;34m=\u001b[0m \u001b[0m_WandbInit\u001b[0m\u001b[0;34m(\u001b[0m\u001b[0;34m)\u001b[0m\u001b[0;34m\u001b[0m\u001b[0;34m\u001b[0m\u001b[0m\n\u001b[0;32m-> 1150\u001b[0;31m         \u001b[0mwi\u001b[0m\u001b[0;34m.\u001b[0m\u001b[0msetup\u001b[0m\u001b[0;34m(\u001b[0m\u001b[0mkwargs\u001b[0m\u001b[0;34m)\u001b[0m\u001b[0;34m\u001b[0m\u001b[0;34m\u001b[0m\u001b[0m\n\u001b[0m\u001b[1;32m   1151\u001b[0m         \u001b[0;32massert\u001b[0m \u001b[0mwi\u001b[0m\u001b[0;34m.\u001b[0m\u001b[0msettings\u001b[0m\u001b[0;34m\u001b[0m\u001b[0;34m\u001b[0m\u001b[0m\n",
      "\u001b[0;32m~/opt/anaconda3/lib/python3.9/site-packages/wandb/sdk/wandb_init.py\u001b[0m in \u001b[0;36msetup\u001b[0;34m(self, kwargs)\u001b[0m\n\u001b[1;32m    215\u001b[0m             \u001b[0;32mif\u001b[0m \u001b[0mkwargs\u001b[0m\u001b[0;34m.\u001b[0m\u001b[0mget\u001b[0m\u001b[0;34m(\u001b[0m\u001b[0;34m\"tags\"\u001b[0m\u001b[0;34m)\u001b[0m\u001b[0;34m:\u001b[0m\u001b[0;34m\u001b[0m\u001b[0;34m\u001b[0m\u001b[0m\n\u001b[0;32m--> 216\u001b[0;31m                 \u001b[0mtel\u001b[0m\u001b[0;34m.\u001b[0m\u001b[0mfeature\u001b[0m\u001b[0;34m.\u001b[0m\u001b[0mset_init_tags\u001b[0m \u001b[0;34m=\u001b[0m \u001b[0;32mTrue\u001b[0m\u001b[0;34m\u001b[0m\u001b[0;34m\u001b[0m\u001b[0m\n\u001b[0m\u001b[1;32m    217\u001b[0m \u001b[0;34m\u001b[0m\u001b[0m\n",
      "\u001b[0;32m~/opt/anaconda3/lib/python3.9/site-packages/wandb/sdk/lib/telemetry.py\u001b[0m in \u001b[0;36m__exit__\u001b[0;34m(self, exctype, excinst, exctb)\u001b[0m\n\u001b[1;32m     41\u001b[0m             \u001b[0;32mreturn\u001b[0m\u001b[0;34m\u001b[0m\u001b[0;34m\u001b[0m\u001b[0m\n\u001b[0;32m---> 42\u001b[0;31m         \u001b[0mself\u001b[0m\u001b[0;34m.\u001b[0m\u001b[0m_run\u001b[0m\u001b[0;34m.\u001b[0m\u001b[0m_telemetry_callback\u001b[0m\u001b[0;34m(\u001b[0m\u001b[0mself\u001b[0m\u001b[0;34m.\u001b[0m\u001b[0m_obj\u001b[0m\u001b[0;34m)\u001b[0m\u001b[0;34m\u001b[0m\u001b[0;34m\u001b[0m\u001b[0m\n\u001b[0m\u001b[1;32m     43\u001b[0m \u001b[0;34m\u001b[0m\u001b[0m\n",
      "\u001b[0;32m~/opt/anaconda3/lib/python3.9/site-packages/wandb/sdk/wandb_run.py\u001b[0m in \u001b[0;36m_telemetry_callback\u001b[0;34m(self, telem_obj)\u001b[0m\n\u001b[1;32m    709\u001b[0m         \u001b[0mself\u001b[0m\u001b[0;34m.\u001b[0m\u001b[0m_telemetry_obj_dirty\u001b[0m \u001b[0;34m=\u001b[0m \u001b[0;32mTrue\u001b[0m\u001b[0;34m\u001b[0m\u001b[0;34m\u001b[0m\u001b[0m\n\u001b[0;32m--> 710\u001b[0;31m         \u001b[0mself\u001b[0m\u001b[0;34m.\u001b[0m\u001b[0m_telemetry_flush\u001b[0m\u001b[0;34m(\u001b[0m\u001b[0;34m)\u001b[0m\u001b[0;34m\u001b[0m\u001b[0;34m\u001b[0m\u001b[0m\n\u001b[0m\u001b[1;32m    711\u001b[0m \u001b[0;34m\u001b[0m\u001b[0m\n",
      "\u001b[0;32m~/opt/anaconda3/lib/python3.9/site-packages/wandb/sdk/wandb_run.py\u001b[0m in \u001b[0;36m_telemetry_flush\u001b[0;34m(self)\u001b[0m\n\u001b[1;32m    720\u001b[0m                 \u001b[0;32mreturn\u001b[0m\u001b[0;34m\u001b[0m\u001b[0;34m\u001b[0m\u001b[0m\n\u001b[0;32m--> 721\u001b[0;31m             \u001b[0mself\u001b[0m\u001b[0;34m.\u001b[0m\u001b[0m_backend\u001b[0m\u001b[0;34m.\u001b[0m\u001b[0minterface\u001b[0m\u001b[0;34m.\u001b[0m\u001b[0m_publish_telemetry\u001b[0m\u001b[0;34m(\u001b[0m\u001b[0mself\u001b[0m\u001b[0;34m.\u001b[0m\u001b[0m_telemetry_obj\u001b[0m\u001b[0;34m)\u001b[0m\u001b[0;34m\u001b[0m\u001b[0;34m\u001b[0m\u001b[0m\n\u001b[0m\u001b[1;32m    722\u001b[0m             \u001b[0mself\u001b[0m\u001b[0;34m.\u001b[0m\u001b[0m_telemetry_obj_flushed\u001b[0m \u001b[0;34m=\u001b[0m \u001b[0mserialized\u001b[0m\u001b[0;34m\u001b[0m\u001b[0;34m\u001b[0m\u001b[0m\n",
      "\u001b[0;32m~/opt/anaconda3/lib/python3.9/site-packages/wandb/sdk/interface/interface_shared.py\u001b[0m in \u001b[0;36m_publish_telemetry\u001b[0;34m(self, telem)\u001b[0m\n\u001b[1;32m    100\u001b[0m         \u001b[0mrec\u001b[0m \u001b[0;34m=\u001b[0m \u001b[0mself\u001b[0m\u001b[0;34m.\u001b[0m\u001b[0m_make_record\u001b[0m\u001b[0;34m(\u001b[0m\u001b[0mtelemetry\u001b[0m\u001b[0;34m=\u001b[0m\u001b[0mtelem\u001b[0m\u001b[0;34m)\u001b[0m\u001b[0;34m\u001b[0m\u001b[0;34m\u001b[0m\u001b[0m\n\u001b[0;32m--> 101\u001b[0;31m         \u001b[0mself\u001b[0m\u001b[0;34m.\u001b[0m\u001b[0m_publish\u001b[0m\u001b[0;34m(\u001b[0m\u001b[0mrec\u001b[0m\u001b[0;34m)\u001b[0m\u001b[0;34m\u001b[0m\u001b[0;34m\u001b[0m\u001b[0m\n\u001b[0m\u001b[1;32m    102\u001b[0m \u001b[0;34m\u001b[0m\u001b[0m\n",
      "\u001b[0;32m~/opt/anaconda3/lib/python3.9/site-packages/wandb/sdk/interface/interface_sock.py\u001b[0m in \u001b[0;36m_publish\u001b[0;34m(self, record, local)\u001b[0m\n\u001b[1;32m     50\u001b[0m         \u001b[0mself\u001b[0m\u001b[0;34m.\u001b[0m\u001b[0m_assign\u001b[0m\u001b[0;34m(\u001b[0m\u001b[0mrecord\u001b[0m\u001b[0;34m)\u001b[0m\u001b[0;34m\u001b[0m\u001b[0;34m\u001b[0m\u001b[0m\n\u001b[0;32m---> 51\u001b[0;31m         \u001b[0mself\u001b[0m\u001b[0;34m.\u001b[0m\u001b[0m_sock_client\u001b[0m\u001b[0;34m.\u001b[0m\u001b[0msend_record_publish\u001b[0m\u001b[0;34m(\u001b[0m\u001b[0mrecord\u001b[0m\u001b[0;34m)\u001b[0m\u001b[0;34m\u001b[0m\u001b[0;34m\u001b[0m\u001b[0m\n\u001b[0m\u001b[1;32m     52\u001b[0m \u001b[0;34m\u001b[0m\u001b[0m\n",
      "\u001b[0;32m~/opt/anaconda3/lib/python3.9/site-packages/wandb/sdk/lib/sock_client.py\u001b[0m in \u001b[0;36msend_record_publish\u001b[0;34m(self, record)\u001b[0m\n\u001b[1;32m    220\u001b[0m         \u001b[0mserver_req\u001b[0m\u001b[0;34m.\u001b[0m\u001b[0mrecord_publish\u001b[0m\u001b[0;34m.\u001b[0m\u001b[0mCopyFrom\u001b[0m\u001b[0;34m(\u001b[0m\u001b[0mrecord\u001b[0m\u001b[0;34m)\u001b[0m\u001b[0;34m\u001b[0m\u001b[0;34m\u001b[0m\u001b[0m\n\u001b[0;32m--> 221\u001b[0;31m         \u001b[0mself\u001b[0m\u001b[0;34m.\u001b[0m\u001b[0msend_server_request\u001b[0m\u001b[0;34m(\u001b[0m\u001b[0mserver_req\u001b[0m\u001b[0;34m)\u001b[0m\u001b[0;34m\u001b[0m\u001b[0;34m\u001b[0m\u001b[0m\n\u001b[0m\u001b[1;32m    222\u001b[0m \u001b[0;34m\u001b[0m\u001b[0m\n",
      "\u001b[0;32m~/opt/anaconda3/lib/python3.9/site-packages/wandb/sdk/lib/sock_client.py\u001b[0m in \u001b[0;36msend_server_request\u001b[0;34m(self, msg)\u001b[0m\n\u001b[1;32m    154\u001b[0m     \u001b[0;32mdef\u001b[0m \u001b[0msend_server_request\u001b[0m\u001b[0;34m(\u001b[0m\u001b[0mself\u001b[0m\u001b[0;34m,\u001b[0m \u001b[0mmsg\u001b[0m\u001b[0;34m:\u001b[0m \u001b[0mAny\u001b[0m\u001b[0;34m)\u001b[0m \u001b[0;34m->\u001b[0m \u001b[0;32mNone\u001b[0m\u001b[0;34m:\u001b[0m\u001b[0;34m\u001b[0m\u001b[0;34m\u001b[0m\u001b[0m\n\u001b[0;32m--> 155\u001b[0;31m         \u001b[0mself\u001b[0m\u001b[0;34m.\u001b[0m\u001b[0m_send_message\u001b[0m\u001b[0;34m(\u001b[0m\u001b[0mmsg\u001b[0m\u001b[0;34m)\u001b[0m\u001b[0;34m\u001b[0m\u001b[0;34m\u001b[0m\u001b[0m\n\u001b[0m\u001b[1;32m    156\u001b[0m \u001b[0;34m\u001b[0m\u001b[0m\n",
      "\u001b[0;32m~/opt/anaconda3/lib/python3.9/site-packages/wandb/sdk/lib/sock_client.py\u001b[0m in \u001b[0;36m_send_message\u001b[0;34m(self, msg)\u001b[0m\n\u001b[1;32m    151\u001b[0m         \u001b[0;32mwith\u001b[0m \u001b[0mself\u001b[0m\u001b[0;34m.\u001b[0m\u001b[0m_lock\u001b[0m\u001b[0;34m:\u001b[0m\u001b[0;34m\u001b[0m\u001b[0;34m\u001b[0m\u001b[0m\n\u001b[0;32m--> 152\u001b[0;31m             \u001b[0mself\u001b[0m\u001b[0;34m.\u001b[0m\u001b[0m_sendall_with_error_handle\u001b[0m\u001b[0;34m(\u001b[0m\u001b[0mheader\u001b[0m \u001b[0;34m+\u001b[0m \u001b[0mdata\u001b[0m\u001b[0;34m)\u001b[0m\u001b[0;34m\u001b[0m\u001b[0;34m\u001b[0m\u001b[0m\n\u001b[0m\u001b[1;32m    153\u001b[0m \u001b[0;34m\u001b[0m\u001b[0m\n",
      "\u001b[0;32m~/opt/anaconda3/lib/python3.9/site-packages/wandb/sdk/lib/sock_client.py\u001b[0m in \u001b[0;36m_sendall_with_error_handle\u001b[0;34m(self, data)\u001b[0m\n\u001b[1;32m    129\u001b[0m             \u001b[0;32mtry\u001b[0m\u001b[0;34m:\u001b[0m\u001b[0;34m\u001b[0m\u001b[0;34m\u001b[0m\u001b[0m\n\u001b[0;32m--> 130\u001b[0;31m                 \u001b[0msent\u001b[0m \u001b[0;34m=\u001b[0m \u001b[0mself\u001b[0m\u001b[0;34m.\u001b[0m\u001b[0m_sock\u001b[0m\u001b[0;34m.\u001b[0m\u001b[0msend\u001b[0m\u001b[0;34m(\u001b[0m\u001b[0mdata\u001b[0m\u001b[0;34m)\u001b[0m\u001b[0;34m\u001b[0m\u001b[0;34m\u001b[0m\u001b[0m\n\u001b[0m\u001b[1;32m    131\u001b[0m                 \u001b[0;31m# sent equal to 0 indicates a closed socket\u001b[0m\u001b[0;34m\u001b[0m\u001b[0;34m\u001b[0m\u001b[0m\n",
      "\u001b[0;31mBrokenPipeError\u001b[0m: [Errno 32] Broken pipe",
      "\nThe above exception was the direct cause of the following exception:\n",
      "\u001b[0;31mError\u001b[0m                                     Traceback (most recent call last)",
      "\u001b[0;32m/var/folders/g5/t30515yj6qjbxg204r_dzx_h0000gn/T/ipykernel_34709/4227039676.py\u001b[0m in \u001b[0;36m<module>\u001b[0;34m\u001b[0m\n\u001b[1;32m     25\u001b[0m \u001b[0;34m\u001b[0m\u001b[0m\n\u001b[1;32m     26\u001b[0m \u001b[0mn_epochs\u001b[0m \u001b[0;34m=\u001b[0m \u001b[0;36m3\u001b[0m\u001b[0;34m\u001b[0m\u001b[0;34m\u001b[0m\u001b[0m\n\u001b[0;32m---> 27\u001b[0;31m \u001b[0mwandb\u001b[0m\u001b[0;34m.\u001b[0m\u001b[0minit\u001b[0m\u001b[0;34m(\u001b[0m\u001b[0;34m)\u001b[0m\u001b[0;34m\u001b[0m\u001b[0;34m\u001b[0m\u001b[0m\n\u001b[0m\u001b[1;32m     28\u001b[0m \u001b[0;34m\u001b[0m\u001b[0m\n\u001b[1;32m     29\u001b[0m \u001b[0mbest_params\u001b[0m \u001b[0;34m=\u001b[0m \u001b[0mwandb\u001b[0m\u001b[0;34m.\u001b[0m\u001b[0magent\u001b[0m\u001b[0;34m(\u001b[0m\u001b[0msweep_id\u001b[0m\u001b[0;34m,\u001b[0m \u001b[0mfunction\u001b[0m\u001b[0;34m=\u001b[0m\u001b[0mtrain_and_evaluate\u001b[0m\u001b[0;34m)\u001b[0m\u001b[0;34m\u001b[0m\u001b[0;34m\u001b[0m\u001b[0m\n",
      "\u001b[0;32m~/opt/anaconda3/lib/python3.9/site-packages/wandb/sdk/wandb_init.py\u001b[0m in \u001b[0;36minit\u001b[0;34m(job_type, dir, config, project, entity, reinit, tags, group, name, notes, magic, config_exclude_keys, config_include_keys, anonymous, mode, allow_val_change, resume, force, tensorboard, sync_tensorboard, monitor_gym, save_code, id, settings)\u001b[0m\n\u001b[1;32m   1190\u001b[0m                 \u001b[0mwandb\u001b[0m\u001b[0;34m.\u001b[0m\u001b[0mtermerror\u001b[0m\u001b[0;34m(\u001b[0m\u001b[0;34m\"Abnormal program exit\"\u001b[0m\u001b[0;34m)\u001b[0m\u001b[0;34m\u001b[0m\u001b[0;34m\u001b[0m\u001b[0m\n\u001b[1;32m   1191\u001b[0m                 \u001b[0mos\u001b[0m\u001b[0;34m.\u001b[0m\u001b[0m_exit\u001b[0m\u001b[0;34m(\u001b[0m\u001b[0;36m1\u001b[0m\u001b[0;34m)\u001b[0m\u001b[0;34m\u001b[0m\u001b[0;34m\u001b[0m\u001b[0m\n\u001b[0;32m-> 1192\u001b[0;31m             \u001b[0;32mraise\u001b[0m \u001b[0mError\u001b[0m\u001b[0;34m(\u001b[0m\u001b[0;34m\"An unexpected error occurred\"\u001b[0m\u001b[0;34m)\u001b[0m \u001b[0;32mfrom\u001b[0m \u001b[0merror_seen\u001b[0m\u001b[0;34m\u001b[0m\u001b[0;34m\u001b[0m\u001b[0m\n\u001b[0m\u001b[1;32m   1193\u001b[0m     \u001b[0;32mreturn\u001b[0m \u001b[0mrun\u001b[0m\u001b[0;34m\u001b[0m\u001b[0;34m\u001b[0m\u001b[0m\n",
      "\u001b[0;31mError\u001b[0m: An unexpected error occurred"
     ]
    }
   ],
   "source": [
    "features = ['I', 'V', 'T']\n",
    "label = 'Q'\n",
    "\n",
    "train_bats = ['b2c30']\n",
    "test_bats = ['b2c5']\n",
    "finetune_bats = ['b2c13']\n",
    "train_dfs = [bat_dfs[bat][(bat_dfs[bat]['c'] >= 1) & (bat_dfs[bat]['c'] <= 30)] for bat in train_bats]\n",
    "test_dfs = [bat_dfs[bat][(bat_dfs[bat]['c'] >= 1) & (bat_dfs[bat]['c'] <= 30)] for bat in test_bats]\n",
    "finetune_dfs = [bat_dfs[bat][(bat_dfs[bat]['c'] >= 1)] for bat in finetune_bats]\n",
    "train_df = pd.concat(train_dfs).reset_index(drop=True)\n",
    "test_df = pd.concat(test_dfs).reset_index(drop=True)\n",
    "finetune_df = pd.concat(finetune_dfs).reset_index(drop=True)\n",
    "\n",
    "# train_bats = train_set['key'].tolist()\n",
    "# test_bats = test_set['key'].tolist()\n",
    "# finetune_bats = val_set['key'].tolist()\n",
    "\n",
    "# train_dfs = [bat_dfs[bat][(bat_dfs[bat]['c'] >= 1) & (bat_dfs[bat]['c'] <= 30)] for bat in train_bats]\n",
    "# test_dfs = [bat_dfs[bat][(bat_dfs[bat]['c'] >= 1) & (bat_dfs[bat]['c'] <= 30)] for bat in test_bats]\n",
    "# finetune_dfs = [bat_dfs[bat][(bat_dfs[bat]['c'] >= 1)] for bat in finetune_bats]\n",
    "\n",
    "# train_df = pd.concat(train_dfs).reset_index(drop=True)\n",
    "# test_df = pd.concat(test_dfs).reset_index(drop=True)\n",
    "# finetune_df = pd.concat(finetune_dfs).reset_index(drop=True)\n",
    "\n",
    "n_epochs = 3\n",
    "wandb.init()\n",
    "\n",
    "best_params = wandb.agent(sweep_id, function=train_and_evaluate)\n",
    "\n",
    "print(\"Best Hyperparameters:\", best_params)\n"
   ]
  },
  {
   "cell_type": "code",
   "execution_count": 101,
   "id": "fa44ebe5-d368-4534-a577-084083547c2f",
   "metadata": {
    "tags": []
   },
   "outputs": [
    {
     "data": {
      "text/html": [
       "<div>\n",
       "<style scoped>\n",
       "    .dataframe tbody tr th:only-of-type {\n",
       "        vertical-align: middle;\n",
       "    }\n",
       "\n",
       "    .dataframe tbody tr th {\n",
       "        vertical-align: top;\n",
       "    }\n",
       "\n",
       "    .dataframe thead th {\n",
       "        text-align: right;\n",
       "    }\n",
       "</style>\n",
       "<table border=\"1\" class=\"dataframe\">\n",
       "  <thead>\n",
       "    <tr style=\"text-align: right;\">\n",
       "      <th></th>\n",
       "      <th>I</th>\n",
       "      <th>V</th>\n",
       "      <th>T</th>\n",
       "    </tr>\n",
       "  </thead>\n",
       "  <tbody>\n",
       "    <tr>\n",
       "      <th>0</th>\n",
       "      <td>0.000000</td>\n",
       "      <td>2.408364</td>\n",
       "      <td>31.028929</td>\n",
       "    </tr>\n",
       "    <tr>\n",
       "      <th>1</th>\n",
       "      <td>0.311905</td>\n",
       "      <td>2.422045</td>\n",
       "      <td>31.028929</td>\n",
       "    </tr>\n",
       "    <tr>\n",
       "      <th>2</th>\n",
       "      <td>0.520290</td>\n",
       "      <td>2.436257</td>\n",
       "      <td>31.028929</td>\n",
       "    </tr>\n",
       "    <tr>\n",
       "      <th>3</th>\n",
       "      <td>0.728350</td>\n",
       "      <td>2.453688</td>\n",
       "      <td>31.028929</td>\n",
       "    </tr>\n",
       "    <tr>\n",
       "      <th>4</th>\n",
       "      <td>0.988153</td>\n",
       "      <td>2.478853</td>\n",
       "      <td>31.028929</td>\n",
       "    </tr>\n",
       "    <tr>\n",
       "      <th>...</th>\n",
       "      <td>...</td>\n",
       "      <td>...</td>\n",
       "      <td>...</td>\n",
       "    </tr>\n",
       "    <tr>\n",
       "      <th>35896</th>\n",
       "      <td>0.000000</td>\n",
       "      <td>2.398058</td>\n",
       "      <td>31.056990</td>\n",
       "    </tr>\n",
       "    <tr>\n",
       "      <th>35897</th>\n",
       "      <td>0.000000</td>\n",
       "      <td>2.399161</td>\n",
       "      <td>31.058382</td>\n",
       "    </tr>\n",
       "    <tr>\n",
       "      <th>35898</th>\n",
       "      <td>0.000000</td>\n",
       "      <td>2.400301</td>\n",
       "      <td>31.058382</td>\n",
       "    </tr>\n",
       "    <tr>\n",
       "      <th>35899</th>\n",
       "      <td>0.000000</td>\n",
       "      <td>2.400301</td>\n",
       "      <td>31.065056</td>\n",
       "    </tr>\n",
       "    <tr>\n",
       "      <th>35900</th>\n",
       "      <td>0.000000</td>\n",
       "      <td>2.401358</td>\n",
       "      <td>31.037230</td>\n",
       "    </tr>\n",
       "  </tbody>\n",
       "</table>\n",
       "<p>35901 rows × 3 columns</p>\n",
       "</div>"
      ],
      "text/plain": [
       "              I         V          T\n",
       "0      0.000000  2.408364  31.028929\n",
       "1      0.311905  2.422045  31.028929\n",
       "2      0.520290  2.436257  31.028929\n",
       "3      0.728350  2.453688  31.028929\n",
       "4      0.988153  2.478853  31.028929\n",
       "...         ...       ...        ...\n",
       "35896  0.000000  2.398058  31.056990\n",
       "35897  0.000000  2.399161  31.058382\n",
       "35898  0.000000  2.400301  31.058382\n",
       "35899  0.000000  2.400301  31.065056\n",
       "35900  0.000000  2.401358  31.037230\n",
       "\n",
       "[35901 rows x 3 columns]"
      ]
     },
     "execution_count": 101,
     "metadata": {},
     "output_type": "execute_result"
    }
   ],
   "source": [
    "train_bats = ['b2c30']\n",
    "train_dfs = [bat_dfs[bat][(bat_dfs[bat]['c'] >= 1) & (bat_dfs[bat]['c'] <= 30)] for bat in train_bats]\n",
    "train_df = pd.concat(train_dfs).reset_index(drop=True)\n",
    "train_df[features]"
   ]
  },
  {
   "cell_type": "code",
   "execution_count": null,
   "id": "be88c5c5-0411-4065-9c7f-219b5370c84f",
   "metadata": {},
   "outputs": [],
   "source": []
  }
 ],
 "metadata": {
  "kernelspec": {
   "display_name": "Python 3 (ipykernel)",
   "language": "python",
   "name": "python3"
  },
  "language_info": {
   "codemirror_mode": {
    "name": "ipython",
    "version": 3
   },
   "file_extension": ".py",
   "mimetype": "text/x-python",
   "name": "python",
   "nbconvert_exporter": "python",
   "pygments_lexer": "ipython3",
   "version": "3.9.7"
  }
 },
 "nbformat": 4,
 "nbformat_minor": 5
}
